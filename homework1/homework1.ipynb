{
 "metadata": {
  "name": "",
  "signature": "sha256:d9f6cabc412d2bfaaf6b369e90a27e0bd6cfd5af77d4626c26ecb3dbb6f39590"
 },
 "nbformat": 3,
 "nbformat_minor": 0,
 "worksheets": [
  {
   "cells": [
    {
     "cell_type": "code",
     "collapsed": false,
     "input": [
      "    # returnize0 works on ndarray and not dataframes.\n",
      "# QSTK Imports\n",
      "import QSTK.qstkutil.qsdateutil as du\n",
      "import QSTK.qstkutil.tsutil as tsu\n",
      "import QSTK.qstkutil.DataAccess as da\n",
      "\n",
      "# Third Party Imports\n",
      "import datetime as dt\n",
      "import matplotlib.pyplot as plt\n",
      "import pandas as pd\n",
      "\n",
      "# List of symbols\n",
      "ls_symbols = [\"GOOG\", \"AAPL\", \"GLD\", \"XOM\"]\n",
      "\n",
      "# List of allocation percentages\n",
      "ls_alloc = [0.2, 0.3, 0.4, 0.1]\n",
      "\n",
      "dt_start = dt.datetime(2011, 1, 1)\n",
      "dt_end = dt.datetime(2011, 1, 10)\n",
      "\n",
      "# We need closing prices so the timestamp should be hours=16.\n",
      "dt_timeofday = dt.timedelta(hours=16)\n",
      "\n",
      "# Get a list of trading days between the start and the end.\n",
      "ldt_timestamps = du.getNYSEdays(dt_start, dt_end, dt_timeofday)\n",
      "\n",
      "# Creating an object of the dataaccess class with Yahoo as the source.\n",
      "c_dataobj = da.DataAccess('Yahoo')\n",
      "\n",
      "# Keys to be read from the data, it is good to read everything in one go.\n",
      "ls_keys = ['open', 'high', 'low', 'close', 'volume', 'actual_close']\n",
      "\n",
      "# Reading the data, now d_data is a dictionary with the keys above.\n",
      "# Timestamps and symbols are the ones that were specified before.\n",
      "ldf_data = c_dataobj.get_data(ldt_timestamps, ls_symbols, ls_keys)\n",
      "d_data = dict(zip(ls_keys, ldf_data))\n",
      "\n",
      "# Getting the numpy ndarray of close prices.\n",
      "na_price = d_data['close'].values"
     ],
     "language": "python",
     "metadata": {},
     "outputs": [],
     "prompt_number": 1
    },
    {
     "cell_type": "code",
     "collapsed": false,
     "input": [
      "na_price"
     ],
     "language": "python",
     "metadata": {},
     "outputs": [
      {
       "metadata": {},
       "output_type": "pyout",
       "prompt_number": 2,
       "text": [
        "array([[ 604.35,  328.16,  138.  ,   71.47],\n",
        "       [ 602.12,  329.87,  134.75,   71.8 ],\n",
        "       [ 609.07,  332.57,  134.37,   71.61],\n",
        "       [ 613.5 ,  332.3 ,  133.83,   72.07],\n",
        "       [ 616.44,  334.68,  133.58,   72.46]])"
       ]
      }
     ],
     "prompt_number": 2
    },
    {
     "cell_type": "code",
     "collapsed": false,
     "input": [
      "na_normalized_price = na_price / na_price[0,:]"
     ],
     "language": "python",
     "metadata": {},
     "outputs": [],
     "prompt_number": 3
    },
    {
     "cell_type": "code",
     "collapsed": false,
     "input": [
      "na_normalized_price"
     ],
     "language": "python",
     "metadata": {},
     "outputs": [
      {
       "metadata": {},
       "output_type": "pyout",
       "prompt_number": 6,
       "text": [
        "array([[ 1.        ,  1.        ,  1.        ,  1.        ],\n",
        "       [ 0.99631009,  1.00521087,  0.97644928,  1.00461732],\n",
        "       [ 1.00781004,  1.01343857,  0.97369565,  1.00195886],\n",
        "       [ 1.01514023,  1.0126158 ,  0.96978261,  1.00839513],\n",
        "       [ 1.02000496,  1.01986836,  0.96797101,  1.01385197]])"
       ]
      }
     ],
     "prompt_number": 6
    },
    {
     "cell_type": "code",
     "collapsed": false,
     "input": [
      "na_alloc_norm_price = na_normalized_price * ls_alloc\n",
      "na_alloc_norm_price"
     ],
     "language": "python",
     "metadata": {},
     "outputs": [
      {
       "metadata": {},
       "output_type": "pyout",
       "prompt_number": 8,
       "text": [
        "array([[ 0.2       ,  0.3       ,  0.4       ,  0.1       ],\n",
        "       [ 0.19926202,  0.30156326,  0.39057971,  0.10046173],\n",
        "       [ 0.20156201,  0.30403157,  0.38947826,  0.10019589],\n",
        "       [ 0.20302805,  0.30378474,  0.38791304,  0.10083951],\n",
        "       [ 0.20400099,  0.30596051,  0.38718841,  0.1013852 ]])"
       ]
      }
     ],
     "prompt_number": 8
    },
    {
     "cell_type": "code",
     "collapsed": false,
     "input": [
      "na_rets = na_alloc_norm_price.copy()\n",
      "tsu.returnize0(na_rets)\n",
      "na_rets"
     ],
     "language": "python",
     "metadata": {},
     "outputs": [
      {
       "metadata": {},
       "output_type": "pyout",
       "prompt_number": 22,
       "text": [
        "array([[ 0.        ,  0.        ,  0.        ,  0.        ],\n",
        "       [-0.00368991,  0.00521087, -0.02355072,  0.00461732],\n",
        "       [ 0.01154255,  0.00818504, -0.00282004, -0.00264624],\n",
        "       [ 0.00727338, -0.00081186, -0.00401875,  0.00642368],\n",
        "       [ 0.00479218,  0.0071622 , -0.00186804,  0.00541141]])"
       ]
      }
     ],
     "prompt_number": 22
    },
    {
     "cell_type": "code",
     "collapsed": false,
     "input": [
      "na_daily_rets = na_rets.sum(axis=1)\n",
      "na_daily_rets"
     ],
     "language": "python",
     "metadata": {},
     "outputs": [
      {
       "metadata": {},
       "output_type": "pyout",
       "prompt_number": 23,
       "text": [
        "array([ 0.        , -0.01741244,  0.01426132,  0.00886645,  0.01549774])"
       ]
      }
     ],
     "prompt_number": 23
    },
    {
     "cell_type": "code",
     "collapsed": false,
     "input": [
      "vol = na_daily_rets.std()\n",
      "vol"
     ],
     "language": "python",
     "metadata": {},
     "outputs": [
      {
       "metadata": {},
       "output_type": "pyout",
       "prompt_number": 24,
       "text": [
        "0.012127436259030972"
       ]
      }
     ],
     "prompt_number": 24
    },
    {
     "cell_type": "code",
     "collapsed": false,
     "input": [
      "daily_ret = na_daily_rets.mean()\n",
      "daily_ret"
     ],
     "language": "python",
     "metadata": {},
     "outputs": [
      {
       "metadata": {},
       "output_type": "pyout",
       "prompt_number": 25,
       "text": [
        "0.0042426136556126034"
       ]
      }
     ],
     "prompt_number": 25
    },
    {
     "cell_type": "code",
     "collapsed": false,
     "input": [
      "from math import sqrt"
     ],
     "language": "python",
     "metadata": {},
     "outputs": [],
     "prompt_number": 18
    },
    {
     "cell_type": "code",
     "collapsed": false,
     "input": [
      "sharpe = sqrt(252) * daily_ret / vol\n",
      "sharpe"
     ],
     "language": "python",
     "metadata": {},
     "outputs": [
      {
       "metadata": {},
       "output_type": "pyout",
       "prompt_number": 26,
       "text": [
        "5.5534741565771766"
       ]
      }
     ],
     "prompt_number": 26
    },
    {
     "cell_type": "code",
     "collapsed": false,
     "input": [
      "sqrt(252)"
     ],
     "language": "python",
     "metadata": {},
     "outputs": [
      {
       "metadata": {},
       "output_type": "pyout",
       "prompt_number": 21,
       "text": [
        "15.874507866387544"
       ]
      }
     ],
     "prompt_number": 21
    },
    {
     "cell_type": "code",
     "collapsed": false,
     "input": [],
     "language": "python",
     "metadata": {},
     "outputs": []
    }
   ],
   "metadata": {}
  }
 ]
}